{
 "cells": [
  {
   "cell_type": "markdown",
   "metadata": {},
   "source": [
    "## Exercise - Measures of Dispersion"
   ]
  },
  {
   "cell_type": "markdown",
   "metadata": {},
   "source": [
    "**1.1** What is the range for the data set?"
   ]
  },
  {
   "cell_type": "code",
   "execution_count": 20,
   "metadata": {},
   "outputs": [],
   "source": [
    "points = [-4, 17, 25, 19, 6, 11, 7]"
   ]
  },
  {
   "cell_type": "code",
   "execution_count": 21,
   "metadata": {},
   "outputs": [
    {
     "name": "stdout",
     "output_type": "stream",
     "text": [
      "The range of the data set is: 29\n"
     ]
    }
   ],
   "source": [
    "print(\"The range of the data set is:\", max(points)-min(points))"
   ]
  },
  {
   "cell_type": "markdown",
   "metadata": {},
   "source": [
    "**1.2** You are given the following dataset:"
   ]
  },
  {
   "cell_type": "code",
   "execution_count": 22,
   "metadata": {},
   "outputs": [],
   "source": [
    "data = [2,4,7,1,6,8]"
   ]
  },
  {
   "cell_type": "markdown",
   "metadata": {},
   "source": [
    "How does the standard deviation change when 6 is replaced with 12? Does it increase, or decrease, or it remains the same?"
   ]
  },
  {
   "cell_type": "code",
   "execution_count": 23,
   "metadata": {},
   "outputs": [
    {
     "name": "stdout",
     "output_type": "stream",
     "text": [
      "The standard deviation increased\n"
     ]
    }
   ],
   "source": [
    "import statistics as stats\n",
    "with_six = stats.stdev(data)\n",
    "data.remove(6)\n",
    "data.append(12)\n",
    "with_twelve = stats.stdev(data)\n",
    "\n",
    "if with_six > with_twelve:\n",
    "    print(\"The standard deviation decreased\")\n",
    "elif with_twelve > with_six:\n",
    "    print( \"The standard deviation increased\")\n",
    "else:\n",
    "    print(\"The standard deviation stayed the same\")"
   ]
  },
  {
   "cell_type": "markdown",
   "metadata": {},
   "source": [
    "**1.3** Is is possible to have a dataset with 0 standard deviation or variance? If yes, can you think of any dataset with 6 data points that have 0 standard deviation?"
   ]
  },
  {
   "cell_type": "markdown",
   "metadata": {},
   "source": [
    "Yes, all data points must be identical. For example:\n",
    "    \n",
    "[1,1,1,1,1,1]"
   ]
  },
  {
   "cell_type": "markdown",
   "metadata": {},
   "source": [
    "**1.4** We know that standard deviation is a measure of spread in the dataset. What is meant by deviation here? What is the formula for calculating deviation? Can deviation be negative?"
   ]
  },
  {
   "cell_type": "markdown",
   "metadata": {},
   "source": [
    "The deviation is the difference from the mean and it can be negative.\n",
    "\n",
    "The formula for deviation is:\n",
    "\n",
    "datapoint-mean\n",
    "\n"
   ]
  },
  {
   "cell_type": "markdown",
   "metadata": {},
   "source": [
    "**1.5** Given the dataset in the list:"
   ]
  },
  {
   "cell_type": "code",
   "execution_count": 24,
   "metadata": {},
   "outputs": [],
   "source": [
    "data = [23, 12, 34, 65, 34, 81]"
   ]
  },
  {
   "cell_type": "markdown",
   "metadata": {},
   "source": [
    "What is the deviation from the mean for each of the points in the list? Write a for loop and print each of the values."
   ]
  },
  {
   "cell_type": "code",
   "execution_count": 25,
   "metadata": {},
   "outputs": [
    {
     "name": "stdout",
     "output_type": "stream",
     "text": [
      "-18.5\n",
      "-29.5\n",
      "-7.5\n",
      "23.5\n",
      "-7.5\n",
      "39.5\n"
     ]
    }
   ],
   "source": [
    "for point in data:\n",
    "    deviation = point - stats.mean(data)\n",
    "    print(deviation)"
   ]
  },
  {
   "cell_type": "markdown",
   "metadata": {},
   "source": [
    "**1.6** How is standard deviation different than variance?"
   ]
  },
  {
   "cell_type": "markdown",
   "metadata": {},
   "source": [
    "The standard deviation has the same units as the data itself. The variance has the units squared. "
   ]
  }
 ],
 "metadata": {
  "kernelspec": {
   "display_name": "Python 3",
   "language": "python",
   "name": "python3"
  },
  "language_info": {
   "codemirror_mode": {
    "name": "ipython",
    "version": 3
   },
   "file_extension": ".py",
   "mimetype": "text/x-python",
   "name": "python",
   "nbconvert_exporter": "python",
   "pygments_lexer": "ipython3",
   "version": "3.7.4"
  }
 },
 "nbformat": 4,
 "nbformat_minor": 2
}
