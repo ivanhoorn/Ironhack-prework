{
 "cells": [
  {
   "cell_type": "markdown",
   "metadata": {},
   "source": [
    "## 1. Exercise - Writing Pseudocode"
   ]
  },
  {
   "cell_type": "markdown",
   "metadata": {},
   "source": [
    "You are witnessing an epic battle between two powerful sorcerers: Gandalf and Saruman. Each sorcerer has 10 spells of different powers in their mind and they are going to throw them one after the other. The winner of the duel will be the one who wins more of those clashes between spells. Spells are represented as a list of 10 integers whose value equals the power of the spell."
   ]
  },
  {
   "cell_type": "code",
   "execution_count": 1,
   "metadata": {},
   "outputs": [],
   "source": [
    "gandalf = [10, 11, 13, 30, 22, 11, 10, 33, 22, 22]\n",
    "saruman = [23, 66, 12, 43, 12, 10, 44, 23, 12, 17]"
   ]
  },
  {
   "cell_type": "raw",
   "metadata": {},
   "source": [
    "You will create two variables, one for each sorcerer, where the total of number of clashes won by each sorcerer will be stored. Depending on which variable is greater at the end of the duel, you will show one of the following three results on the screen:\n",
    "\n",
    "Gandalf wins\n",
    "Saruman wins\n",
    "Tie"
   ]
  },
  {
   "cell_type": "markdown",
   "metadata": {},
   "source": [
    "Write pseudocode to solve this problem and then code it!"
   ]
  },
  {
   "cell_type": "raw",
   "metadata": {},
   "source": [
    "Gandalf_wins = number of times Gandalf wins (start at zero)\n",
    "Saurman_wins = number of times Saruman wins (start at zero)\n",
    "\n",
    "for every clash in the list of clashes:\n",
    "    if Gandalf wins:\n",
    "        add 1 point to Gandalf_wins\n",
    "    elif Saruman wins:\n",
    "        add 1 point to Saurman_wins\n",
    "\n",
    "if Saruman_wins is greater than Gandalf_wins:\n",
    "    print Saruman wins\n",
    "elif Gandalf_wins is greater than Saruman_wins:\n",
    "    print Gandalf wins\n",
    "else:\n",
    "    print Tie"
   ]
  },
  {
   "cell_type": "code",
   "execution_count": 4,
   "metadata": {},
   "outputs": [
    {
     "name": "stdout",
     "output_type": "stream",
     "text": [
      "Gandalf wins\n"
     ]
    }
   ],
   "source": [
    "Gandalf_wins = 0\n",
    "Saruman_wins = 0\n",
    "\n",
    "for clash in range(len(gandalf)):\n",
    "    if gandalf[clash] > saruman[clash]:\n",
    "        Gandalf_wins += 1\n",
    "    elif saruman[clash] > gandalf[clash]:\n",
    "        Saurman_wins += 1\n",
    "\n",
    "if Saruman_wins > Gandalf_wins:\n",
    "    print(\"Saruman wins\")\n",
    "elif Gandalf_wins > Saruman_wins:\n",
    "    print(\"Gandalf wins\")\n",
    "else:\n",
    "    print(\"Tie\")"
   ]
  },
  {
   "cell_type": "code",
   "execution_count": null,
   "metadata": {},
   "outputs": [],
   "source": []
  }
 ],
 "metadata": {
  "kernelspec": {
   "display_name": "Python 3",
   "language": "python",
   "name": "python3"
  },
  "language_info": {
   "codemirror_mode": {
    "name": "ipython",
    "version": 3
   },
   "file_extension": ".py",
   "mimetype": "text/x-python",
   "name": "python",
   "nbconvert_exporter": "python",
   "pygments_lexer": "ipython3",
   "version": "3.7.4"
  }
 },
 "nbformat": 4,
 "nbformat_minor": 2
}
