{
 "cells": [
  {
   "cell_type": "markdown",
   "metadata": {},
   "source": [
    "## 1. Exercise - Generation calculator"
   ]
  },
  {
   "cell_type": "markdown",
   "metadata": {},
   "source": [
    "Create a “generation calculator” to help determine the generation you belong to according to your birth year. Follow the below information:"
   ]
  },
  {
   "cell_type": "raw",
   "metadata": {},
   "source": [
    "+-----------------+---------------------+\n",
    "|  birth_year     |      generation     |\n",
    "+-----------------+---------------------+\n",
    "|     < 1949      |  silent generation  |\n",
    "+-----------------+---------------------+\n",
    "|     < 1969      |     baby boomer     |\n",
    "+-----------------+---------------------+\n",
    "|     < 1981      |     X generation    |\n",
    "+-----------------+---------------------+\n",
    "|     < 1994      |      millennial     |\n",
    "+-----------------+---------------------+\n",
    "|     > 1994      |    Z generation     |\n",
    "+-----------------+---------------------+\n"
   ]
  },
  {
   "cell_type": "markdown",
   "metadata": {},
   "source": [
    "Let’s add some “fake” users whose data we will be using to validate if the function gives us the correct and expected result."
   ]
  },
  {
   "cell_type": "code",
   "execution_count": 2,
   "metadata": {},
   "outputs": [],
   "source": [
    "name1 = \"Jonh\"\n",
    "birth_year1 = 1989\n",
    "\n",
    "name2 = \"Mari\"\n",
    "birth_year2 = 1995\n",
    "\n",
    "name3 = \"Mich\"\n",
    "birth_year3 = 1960"
   ]
  },
  {
   "cell_type": "markdown",
   "metadata": {},
   "source": [
    "**1.** Define the function generation calculator & add both parameters to represent both variables we are going to need in this function.\n",
    "\n",
    "**2.** Determine generation as a birth year (we need to know the year to be able to calculate)\n",
    "\n",
    "**3.** Print the results\n",
    "\n",
    "**4.** Write conditionals for each generation. For example, if you were born before 1949 you would be a “silent generation”.\n",
    "\n",
    "**5.** Define variables for each result\n",
    "\n",
    "**6.** Show results"
   ]
  },
  {
   "cell_type": "code",
   "execution_count": 3,
   "metadata": {},
   "outputs": [
    {
     "name": "stdout",
     "output_type": "stream",
     "text": [
      "Generation: 1989\n",
      "Generation: 1995\n",
      "Generation: 1960\n",
      "Jonh is millennial\n",
      "Mari is Z generation\n",
      "Mich is baby boomer\n"
     ]
    }
   ],
   "source": [
    "def generation_calculator(birth_year, name):\n",
    "    generation = birth_year\n",
    "    print(\"Generation:\", generation)\n",
    "    if generation < 1949:\n",
    "        return name + \" is silent generation\"\n",
    "    if generation < 1969:\n",
    "        return name + \" is baby boomer\"\n",
    "    if generation < 1981:\n",
    "        return name + \" is X generation\"\n",
    "    if generation < 1994:\n",
    "        return name + \" is millennial\"\n",
    "    else:\n",
    "        return name + \" is Z generation\"\n",
    "\n",
    "result1 = generation_calculator(birth_year1, name1)\n",
    "\n",
    "result2 = generation_calculator(birth_year2, name2)\n",
    "\n",
    "result3 = generation_calculator(birth_year3, name3)\n",
    "\n",
    "print(result1)\n",
    "print(result2)\n",
    "print(result3)\n",
    "        "
   ]
  },
  {
   "cell_type": "code",
   "execution_count": null,
   "metadata": {},
   "outputs": [],
   "source": []
  }
 ],
 "metadata": {
  "kernelspec": {
   "display_name": "Python 3",
   "language": "python",
   "name": "python3"
  },
  "language_info": {
   "codemirror_mode": {
    "name": "ipython",
    "version": 3
   },
   "file_extension": ".py",
   "mimetype": "text/x-python",
   "name": "python",
   "nbconvert_exporter": "python",
   "pygments_lexer": "ipython3",
   "version": "3.7.4"
  }
 },
 "nbformat": 4,
 "nbformat_minor": 2
}
