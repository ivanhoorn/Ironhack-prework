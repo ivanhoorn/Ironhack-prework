{
 "cells": [
  {
   "cell_type": "markdown",
   "metadata": {},
   "source": [
    "## 1. Exercise - Measures of Central Tendency"
   ]
  },
  {
   "cell_type": "markdown",
   "metadata": {},
   "source": [
    "**1.1** We saw that a dataset can have more than one mode. But can a dataset have more than one median?"
   ]
  },
  {
   "cell_type": "markdown",
   "metadata": {},
   "source": [
    "False"
   ]
  },
  {
   "cell_type": "markdown",
   "metadata": {},
   "source": [
    "**1.2** Given the data in the list:"
   ]
  },
  {
   "cell_type": "code",
   "execution_count": 1,
   "metadata": {},
   "outputs": [],
   "source": [
    "data = [4, 7, 5, 9, 8, 6, 7, 7, 8, 5, 6, 9, 8, 5, 8, 7, 4, 7, 3, 6, 8, 9, 7, 6, 9]"
   ]
  },
  {
   "cell_type": "raw",
   "metadata": {},
   "source": [
    "What is the mean, median, and mode of the dataset.\n",
    "\n",
    "Create a new dictionary called data_dictionary and store the above answers as key value pairs in the dictionary."
   ]
  },
  {
   "cell_type": "code",
   "execution_count": 10,
   "metadata": {},
   "outputs": [
    {
     "name": "stdout",
     "output_type": "stream",
     "text": [
      "The mean of the dataset is: 6\n",
      "The median of the dataset is: 7\n",
      "The mode of the dataset is: 7\n"
     ]
    }
   ],
   "source": [
    "import statistics as stats \n",
    "import numpy as np\n",
    "\n",
    "data = np.sort(data)\n",
    "mean = stats.mean(data)\n",
    "median = stats.median(data)\n",
    "mode = stats.mode(data)\n",
    "print(\"The mean of the dataset is:\", mean)\n",
    "print(\"The median of the dataset is:\", median)\n",
    "print(\"The mode of the dataset is:\", mode)\n",
    "\n",
    "data_dictionary = {'mean': mean, 'median': median, 'mode': mode}"
   ]
  },
  {
   "cell_type": "markdown",
   "metadata": {},
   "source": [
    "**1.3** To find which statistic do you have to arrange the data in an ascending order?"
   ]
  },
  {
   "cell_type": "markdown",
   "metadata": {},
   "source": [
    "Median"
   ]
  },
  {
   "cell_type": "markdown",
   "metadata": {},
   "source": [
    "**1.4** How do you find the median when there are even number of data points?"
   ]
  },
  {
   "cell_type": "markdown",
   "metadata": {},
   "source": [
    "You take the mean of the two middle data points."
   ]
  },
  {
   "cell_type": "markdown",
   "metadata": {},
   "source": [
    "**1.5** What are outliers in a dataset? Which of the three - Mean, Median, and Mode - is more susceptible to change with presence of outliers in the data?"
   ]
  },
  {
   "cell_type": "markdown",
   "metadata": {},
   "source": [
    "Outliers are values that are far out of the range of the more common data points in a data set. \n",
    "\n",
    "The **mean** is most susceptible to change with the presence of outliers. "
   ]
  }
 ],
 "metadata": {
  "kernelspec": {
   "display_name": "Python 3",
   "language": "python",
   "name": "python3"
  },
  "language_info": {
   "codemirror_mode": {
    "name": "ipython",
    "version": 3
   },
   "file_extension": ".py",
   "mimetype": "text/x-python",
   "name": "python",
   "nbconvert_exporter": "python",
   "pygments_lexer": "ipython3",
   "version": "3.7.4"
  }
 },
 "nbformat": 4,
 "nbformat_minor": 2
}
