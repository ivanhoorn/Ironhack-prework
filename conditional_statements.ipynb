{
 "cells": [
  {
   "cell_type": "markdown",
   "metadata": {},
   "source": [
    "## Exercise - Conditional Statements"
   ]
  },
  {
   "cell_type": "markdown",
   "metadata": {},
   "source": [
    "**1.1** Ask the user to input a number (should be integer). Check if the number is even or odd. Remember that 0 is neither even nor odd."
   ]
  },
  {
   "cell_type": "code",
   "execution_count": 10,
   "metadata": {},
   "outputs": [
    {
     "name": "stdout",
     "output_type": "stream",
     "text": [
      "Please enter a number: 22\n",
      "number is even\n"
     ]
    }
   ],
   "source": [
    "number = int(input(\"Please enter a number: \"))\n",
    "\n",
    "if number == 0:\n",
    "    print('number is neither even nor odd')\n",
    "elif number%2 == 0:\n",
    "    print(\"number is even\")\n",
    "else:\n",
    "    print(\"number is odd\")"
   ]
  },
  {
   "cell_type": "markdown",
   "metadata": {},
   "source": [
    "**1.2** Ask the user to input a number (should be integer). Check whether the number is zero, positive or negative."
   ]
  },
  {
   "cell_type": "code",
   "execution_count": 13,
   "metadata": {},
   "outputs": [
    {
     "name": "stdout",
     "output_type": "stream",
     "text": [
      "Please enter a number: 9\n",
      "number is positive\n"
     ]
    }
   ],
   "source": [
    "number = int(input(\"Please enter a number: \"))\n",
    "\n",
    "if number == 0:\n",
    "    print(\"number is zero\")\n",
    "elif number > 0:\n",
    "    print(\"number is positive\")\n",
    "else:\n",
    "    print(\"number is negative\")"
   ]
  },
  {
   "cell_type": "raw",
   "metadata": {},
   "source": [
    "1.3 A school has following grading system:\n",
    "\n",
    "a. Below 25 - F \n",
    "b. 25 to 45 - E\n",
    "c. 45 to 60 - D\n",
    "d. 60 to 75 - C\n",
    "e. 75 to 90 - B\n",
    "f. Above 90 - A\n",
    "\n",
    "Ask user to enter marks (assuming the marks are between 0 and 100) and print the corresponding grade."
   ]
  },
  {
   "cell_type": "code",
   "execution_count": 1,
   "metadata": {},
   "outputs": [
    {
     "name": "stdout",
     "output_type": "stream",
     "text": [
      "Please enter the mark: 75\n",
      "The grade is B\n"
     ]
    }
   ],
   "source": [
    "mark = int(input(\"Please enter the mark: \"))\n",
    "\n",
    "if mark < 25:\n",
    "    print(\"The grade is F\")\n",
    "elif mark < 45:\n",
    "    print(\"The grade is E\")\n",
    "elif mark < 60:\n",
    "    print(\"The grade is D\")\n",
    "elif mark < 75:\n",
    "    print(\"The grade is C\")\n",
    "elif mark <= 90:\n",
    "    print(\"The grade is B\")\n",
    "else:\n",
    "    print(\"the grade is A\")"
   ]
  },
  {
   "cell_type": "raw",
   "metadata": {},
   "source": [
    "Bonus: In the problem 1.1, we asked you to write a code to enter an integer and then check if that number is even or not. What if the user inputs a letter or some symbol instead? If we don’t handle this properly, code will break. We should prompt the user if the input entered was incorrect.\n",
    "\n",
    "Now try and make this code more robust by first checking if the entered input is a number or not. If the number entered is an integer, only then check if it is even or not."
   ]
  },
  {
   "cell_type": "code",
   "execution_count": 19,
   "metadata": {},
   "outputs": [
    {
     "name": "stdout",
     "output_type": "stream",
     "text": [
      "Please enter a number: -7.0\n",
      "number is odd\n"
     ]
    }
   ],
   "source": [
    "number = input(\"Please enter a number: \")\n",
    "\n",
    "if number.replace('.','',1).replace('-','',1).isdigit():\n",
    "    number = float(number)\n",
    "    if number == 0:\n",
    "        print('number is neither even nor odd')\n",
    "    elif number%2 == 0:\n",
    "        print(\"number is even\")\n",
    "    else:\n",
    "        print(\"number is odd\")\n",
    "\n",
    "else:\n",
    "    print(\"A number was not entered\")"
   ]
  },
  {
   "cell_type": "code",
   "execution_count": null,
   "metadata": {},
   "outputs": [],
   "source": []
  },
  {
   "cell_type": "code",
   "execution_count": null,
   "metadata": {},
   "outputs": [],
   "source": []
  }
 ],
 "metadata": {
  "kernelspec": {
   "display_name": "Python 3",
   "language": "python",
   "name": "python3"
  },
  "language_info": {
   "codemirror_mode": {
    "name": "ipython",
    "version": 3
   },
   "file_extension": ".py",
   "mimetype": "text/x-python",
   "name": "python",
   "nbconvert_exporter": "python",
   "pygments_lexer": "ipython3",
   "version": "3.7.4"
  }
 },
 "nbformat": 4,
 "nbformat_minor": 2
}
